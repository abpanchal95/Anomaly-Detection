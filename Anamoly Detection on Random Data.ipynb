{
 "cells": [
  {
   "cell_type": "code",
   "execution_count": 1,
   "id": "literary-mount",
   "metadata": {},
   "outputs": [],
   "source": [
    "#importing libraries\n",
    "import numpy as np\n",
    "import matplotlib.pyplot as plt"
   ]
  },
  {
   "cell_type": "code",
   "execution_count": 2,
   "id": "sharp-johnson",
   "metadata": {},
   "outputs": [],
   "source": [
    "#generating two features X1 and X2 with mean 0 and standart deviation 1 (random data)\n",
    "mu = 0\n",
    "sigma = 1\n",
    "X1 = np.random.normal(mu, sigma, size=1000)\n",
    "X2 = np.random.normal(mu, sigma, size=1000)"
   ]
  },
  {
   "cell_type": "code",
   "execution_count": 3,
   "id": "civil-virginia",
   "metadata": {},
   "outputs": [
    {
     "data": {
      "text/plain": [
       "<matplotlib.collections.PathCollection at 0x7ff593a819a0>"
      ]
     },
     "execution_count": 3,
     "metadata": {},
     "output_type": "execute_result"
    },
    {
     "data": {
      "image/png": "[encoded data removed]",
      "text/plain": [
       "<Figure size 432x288 with 1 Axes>"
      ]
     },
     "metadata": {
      "needs_background": "light"
     },
     "output_type": "display_data"
    }
   ],
   "source": [
    "#visualizing data points\n",
    "plt.scatter(X1, X2)"
   ]
  },
  {
   "cell_type": "code",
   "execution_count": 4,
   "id": "designing-staff",
   "metadata": {},
   "outputs": [
    {
     "data": {
      "image/png": "[encoded data removed]",
      "text/plain": [
       "<Figure size 432x288 with 1 Axes>"
      ]
     },
     "metadata": {
      "needs_background": "light"
     },
     "output_type": "display_data"
    }
   ],
   "source": [
    "#visualizing histogram of X1 (which will be gaussian)\n",
    "n, bins, patches = plt.hist(x=X1, bins='auto', rwidth=0.85)"
   ]
  },
  {
   "cell_type": "code",
   "execution_count": 5,
   "id": "amino-warning",
   "metadata": {},
   "outputs": [
    {
     "data": {
      "image/png": "[encoded data removed]",
      "text/plain": [
       "<Figure size 432x288 with 1 Axes>"
      ]
     },
     "metadata": {
      "needs_background": "light"
     },
     "output_type": "display_data"
    }
   ],
   "source": [
    "#visualizing histogram of X2 (which will be gaussian)\n",
    "n, bins, patches = plt.hist(x=X2, bins='auto', rwidth=0.85)"
   ]
  },
  {
   "cell_type": "code",
   "execution_count": 6,
   "id": "turned-timber",
   "metadata": {},
   "outputs": [],
   "source": [
    "#simple helper function to calculate gaussian probability density and multiplication of that as single vector\n",
    "import scipy.stats\n",
    "\n",
    "def gaussian_probability_density(features):\n",
    "    P_x = scipy.stats.norm(loc=0, scale=1).pdf(features[0])\n",
    "    for i in range(1,len(features)):\n",
    "        pdf = scipy.stats.norm(loc=0, scale=1).pdf(features[i])\n",
    "        P_x = np.multiply(P_x, pdf)\n",
    "        \n",
    "    return P_x"
   ]
  },
  {
   "cell_type": "code",
   "execution_count": 7,
   "id": "understood-parliament",
   "metadata": {},
   "outputs": [],
   "source": [
    "#getting P(x) for features X1 and X2\n",
    "P_x = gaussian_probability_density([X1, X2])"
   ]
  },
  {
   "cell_type": "code",
   "execution_count": 8,
   "id": "sitting-details",
   "metadata": {},
   "outputs": [],
   "source": [
    "#epsilon is the threshold which we have to decide so in this case we are taking minimum of P(x)\n",
    "epsilon = min(P_x)"
   ]
  },
  {
   "cell_type": "code",
   "execution_count": 9,
   "id": "seven-effectiveness",
   "metadata": {},
   "outputs": [
    {
     "name": "stdout",
     "output_type": "stream",
     "text": [
      "Normal\n"
     ]
    }
   ],
   "source": [
    "#predicting on new data point (X1,X2)=(1,1) and detecting if it is anomaly or not\n",
    "P_x_pred = gaussian_probability_density([[1], [1]])\n",
    "\n",
    "if P_x_pred < epsilon:\n",
    "    print(\"Anomaly\")\n",
    "else:\n",
    "    print(\"Normal\")"
   ]
  },
  {
   "cell_type": "code",
   "execution_count": 10,
   "id": "applied-filling",
   "metadata": {},
   "outputs": [
    {
     "name": "stdout",
     "output_type": "stream",
     "text": [
      "Anomaly\n"
     ]
    }
   ],
   "source": [
    "#predicting on new data point (X1,X2)=(5,5) and detecting if it is anomaly or not\n",
    "P_x_pred = gaussian_probability_density([[5], [5]])\n",
    "\n",
    "if P_x_pred < epsilon:\n",
    "    print(\"Anomaly\")\n",
    "else:\n",
    "    print(\"Normal\")"
   ]
  },
  {
   "cell_type": "code",
   "execution_count": 11,
   "id": "activated-publication",
   "metadata": {},
   "outputs": [
    {
     "name": "stdout",
     "output_type": "stream",
     "text": [
      "[[[0], [0]], [[0], [1]], [[0], [2]], [[0], [3]], [[0], [4]], [[1], [0]], [[1], [1]], [[1], [2]], [[1], [3]], [[1], [4]], [[2], [0]], [[2], [1]], [[2], [2]], [[2], [3]], [[2], [4]], [[3], [0]], [[3], [1]], [[3], [2]], [[3], [3]], [[3], [4]], [[4], [0]], [[4], [1]], [[4], [2]], [[4], [3]], [[4], [4]]]\n"
     ]
    }
   ],
   "source": [
    "#generating random test data\n",
    "test_data = []\n",
    "for i in range(5):\n",
    "    for j in range(5):\n",
    "        test_data.append([[i], [j]])\n",
    "        \n",
    "print(test_data)"
   ]
  },
  {
   "cell_type": "code",
   "execution_count": 12,
   "id": "split-fortune",
   "metadata": {},
   "outputs": [
    {
     "name": "stdout",
     "output_type": "stream",
     "text": [
      "[0, 0, 0, 0, 1, 0, 0, 0, 0, 1, 0, 0, 0, 0, 1, 0, 0, 0, 1, 1, 1, 1, 1, 1, 1]\n"
     ]
    }
   ],
   "source": [
    "#generating prediction of each test point and appending in y_pred list\n",
    "y_pred = []\n",
    "for td in test_data:\n",
    "    P_x_pred = gaussian_probability_density(td)\n",
    "    \n",
    "    if P_x_pred < epsilon:\n",
    "        y_pred.append(1)\n",
    "    else:\n",
    "        y_pred.append(0)\n",
    "        \n",
    "print(y_pred)"
   ]
  },
  {
   "cell_type": "code",
   "execution_count": 13,
   "id": "spatial-enclosure",
   "metadata": {},
   "outputs": [
    {
     "data": {
      "text/plain": [
       "<matplotlib.collections.PathCollection at 0x7ff563ada400>"
      ]
     },
     "execution_count": 13,
     "metadata": {},
     "output_type": "execute_result"
    },
    {
     "data": {
      "image/png": "[encoded data removed]",
      "text/plain": [
       "<Figure size 432x288 with 1 Axes>"
      ]
     },
     "metadata": {
      "needs_background": "light"
     },
     "output_type": "display_data"
    }
   ],
   "source": [
    "#visualizing anomaly\n",
    "plt.scatter(X1, X2, color=\"green\")\n",
    "plt.scatter([i[0][0] for i in test_data], [i[1][0] for i in test_data], c=y_pred)"
   ]
  },
  {
   "cell_type": "code",
   "execution_count": 14,
   "id": "french-wealth",
   "metadata": {},
   "outputs": [],
   "source": [
    "#All yellow points are detected as Anomaly"
   ]
  }
 ],
 "metadata": {
  "kernelspec": {
   "display_name": "Python 3",
   "language": "python",
   "name": "python3"
  },
  "language_info": {
   "codemirror_mode": {
    "name": "ipython",
    "version": 3
   },
   "file_extension": ".py",
   "mimetype": "text/x-python",
   "name": "python",
   "nbconvert_exporter": "python",
   "pygments_lexer": "ipython3",
   "version": "3.8.5"
  }
 },
 "nbformat": 4,
 "nbformat_minor": 5
}
